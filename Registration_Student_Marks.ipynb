{
  "nbformat": 4,
  "nbformat_minor": 0,
  "metadata": {
    "colab": {
      "provenance": [],
      "authorship_tag": "ABX9TyPoqgt1uV9sbTLyKX6VVAWf",
      "include_colab_link": true
    },
    "kernelspec": {
      "name": "python3",
      "display_name": "Python 3"
    },
    "language_info": {
      "name": "python"
    }
  },
  "cells": [
    {
      "cell_type": "markdown",
      "metadata": {
        "id": "view-in-github",
        "colab_type": "text"
      },
      "source": [
        "<a href=\"https://colab.research.google.com/github/HagerMustafaa/Registration-Student-Marks/blob/main/Registration_Student_Marks.ipynb\" target=\"_parent\"><img src=\"https://colab.research.google.com/assets/colab-badge.svg\" alt=\"Open In Colab\"/></a>"
      ]
    },
    {
      "cell_type": "code",
      "execution_count": 16,
      "metadata": {
        "id": "3HHKQS1BdA-_"
      },
      "outputs": [],
      "source": [
        "Students = {}\n",
        "\n",
        "class Person():\n",
        "  def __init__(self, name, age, gender, address, city):\n",
        "    self.name = name\n",
        "    self.age = age\n",
        "    self.gender = gender\n",
        "    self.address = address\n",
        "    self.city = city\n",
        "\n",
        "  def print_info(self):\n",
        "    return{\n",
        "        'Name':self.name,\n",
        "        'Age':self.age,\n",
        "        'Gender':self.gender,\n",
        "        'Address':self.address,\n",
        "        'City':self.city,\n",
        "    }\n",
        "\n",
        "class Student(Person):\n",
        "  def __init__(self, name, age, gender, address, city, grade):\n",
        "      super().__init__(name, age, gender, address, city)\n",
        "      self.grade = grade\n",
        "\n",
        "  def evaluation(self):\n",
        "      print(self.grade)\n",
        "      mean = sum(self.grade.values())/len(self.grade.values())\n",
        "      return mean"
      ]
    },
    {
      "cell_type": "code",
      "source": [
        "Students = {}\n",
        "\n",
        "j = 0\n",
        "while True:\n",
        "  j+=1\n",
        "  student_name = input(f'\\n Enter the name of the student : ')\n",
        "  student_age = input(f'\\n Enter the age of the student : ')\n",
        "  student_gender = input(f'\\n Enter the gender of the student : ')\n",
        "  student_address = input(f'\\n Enter the address of the student : ')\n",
        "  student_city = input(f'\\n Enter the city of the student : ')\n",
        "  math = input(f'\\n Enter the math degree of the student : ')\n",
        "  science = input(f'\\n Enter the science degree of the student : ')\n",
        "  english = input(f'\\n Enter the english degree of the student : ')\n",
        "\n",
        "  Students[j] = Student(student_name, student_age,\n",
        "                     student_gender, student_address, student_city,{\n",
        "                         'Math':float(math), 'Science':float(science), 'Englisg':float(english)\n",
        "                     })\n",
        "  Students[j].print_info()\n",
        "  mean =  Students[j].evaluation()\n",
        "  print(f'Mean = {mean}')\n",
        "\n",
        "  end = input('if you finish your input enter end:)')\n",
        "  if end == 'end':\n",
        "    break\n",
        "\n",
        "  print('*'*50)"
      ],
      "metadata": {
        "colab": {
          "base_uri": "https://localhost:8080/"
        },
        "id": "TTtXi1feu9n1",
        "outputId": "3231424a-d7fe-44e5-dadb-f2aef0a3d9cb"
      },
      "execution_count": null,
      "outputs": [
        {
          "output_type": "stream",
          "name": "stdout",
          "text": [
            "\n",
            " Enter the name of the student : h\n",
            "\n",
            " Enter the age of the student : h\n",
            "\n",
            " Enter the gender of the student : h\n",
            "\n",
            " Enter the address of the student : h\n",
            "\n",
            " Enter the city of the student : h\n",
            "\n",
            " Enter the math degree of the student : 50\n",
            "\n",
            " Enter the science degree of the student : 100\n",
            "\n",
            " Enter the english degree of the student : 100\n",
            "{'Math': 50.0, 'Science': 100.0, 'Englisg': 100.0}\n",
            "Mean = 83.33333333333333\n",
            "if you finish your input enter end:)\n",
            "**************************************************\n"
          ]
        }
      ]
    }
  ]
}